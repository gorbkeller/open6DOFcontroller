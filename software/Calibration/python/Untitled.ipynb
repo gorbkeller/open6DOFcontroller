{
 "cells": [
  {
   "cell_type": "code",
   "execution_count": 25,
   "metadata": {},
   "outputs": [
    {
     "name": "stdout",
     "output_type": "stream",
     "text": [
      "[0.33333333 0.33333333 0.33333333]\n",
      "3.7558738064102926e-10\n",
      "8.820477959137207e-10\n",
      "-7.98521110345618e-10\n",
      "0.85287691\n",
      "[0.50630372 0.07688955 0.26660433]\n",
      "[[ 0.80231594 -0.51683955 -0.2854764 ]\n",
      " [ 0.01731649  0.39287781 -0.41019431]\n",
      " [-0.15051887 -0.49516721  0.64568609]]\n",
      "[[ 0.93449024 -0.01693393  0.35558576]\n",
      " [ 0.16448431  0.90638961 -0.38910512]\n",
      " [-0.31571016  0.42210321  0.84979761]]\n"
     ]
    }
   ],
   "source": [
    "# optimal rotation and translation\n",
    "import numpy as np\n",
    "import numpy.linalg as la\n",
    "\n",
    "O = np.array([[1, 0, 0],\n",
    "    [0, 1, 0],\n",
    "    [0, 0, 1]]).T\n",
    "\n",
    "O_centroid = (O[0]+O[1]+O[2])/3.0\n",
    "print(O_centroid)\n",
    "\n",
    "A = np.array([[0.85287691, 0.49239115, 0.17364311],\n",
    "    [-0.46627858,  0.86795247, -0.17100523],\n",
    "    [-0.23491543,  0.06488035,  0.96984807]]).T\n",
    "print(np.dot(A.T[0],A.T[1]))\n",
    "print(np.dot(A.T[1],A.T[2]))\n",
    "print(np.dot(A.T[0],A.T[2]))\n",
    "\n",
    "print(((0.85287691-0.46627858) + np.sqrt((0.85287691-0.46627858)**2 -4*(0.85287691)*(-0.46627858)))/2)\n",
    "\n",
    "A_centroid = (A[0]+A[1]+A[2])/3.0\n",
    "print(A_centroid)\n",
    "\n",
    "H = np.matmul((A - np.array([A_centroid,A_centroid,A_centroid]).T),(O - np.array([O_centroid,O_centroid,O_centroid]).T).T)\n",
    "print(H)\n",
    "U,S,VH = la.svd(H)\n",
    "print(np.matmul(VH,U))"
   ]
  }
 ],
 "metadata": {
  "kernelspec": {
   "display_name": "Python 3",
   "language": "python",
   "name": "python3"
  },
  "language_info": {
   "codemirror_mode": {
    "name": "ipython",
    "version": 3
   },
   "file_extension": ".py",
   "mimetype": "text/x-python",
   "name": "python",
   "nbconvert_exporter": "python",
   "pygments_lexer": "ipython3",
   "version": "3.8.3"
  }
 },
 "nbformat": 4,
 "nbformat_minor": 4
}
